{
 "cells": [
  {
   "cell_type": "code",
   "execution_count": 1,
   "id": "7f97ea6e-0935-4158-99da-6dfccd0093d8",
   "metadata": {},
   "outputs": [
    {
     "name": "stdout",
     "output_type": "stream",
     "text": [
      "Version of numpy: 1.23.3\n",
      "Version of matplotlib: 3.5.3\n"
     ]
    }
   ],
   "source": [
    "%matplotlib inline\n",
    "\n",
    "import numpy as np\n",
    "import pandas as pd\n",
    "import matplotlib\n",
    "import matplotlib.pyplot as plt\n",
    "\n",
    "print(\"Version of numpy:\", np.__version__)\n",
    "print(\"Version of matplotlib:\", matplotlib.__version__)"
   ]
  },
  {
   "cell_type": "code",
   "execution_count": 2,
   "id": "f4f1a5dc-c3bd-438b-b86a-b4d1f2447cc7",
   "metadata": {},
   "outputs": [],
   "source": [
    "# set random seed\n",
    "np.random.seed(42)"
   ]
  },
  {
   "cell_type": "code",
   "execution_count": 3,
   "id": "ae64be5d-9e7f-4fa1-8d74-eca4c700872e",
   "metadata": {},
   "outputs": [
    {
     "data": {
      "text/html": [
       "<div>\n",
       "<style scoped>\n",
       "    .dataframe tbody tr th:only-of-type {\n",
       "        vertical-align: middle;\n",
       "    }\n",
       "\n",
       "    .dataframe tbody tr th {\n",
       "        vertical-align: top;\n",
       "    }\n",
       "\n",
       "    .dataframe thead th {\n",
       "        text-align: right;\n",
       "    }\n",
       "</style>\n",
       "<table border=\"1\" class=\"dataframe\">\n",
       "  <thead>\n",
       "    <tr style=\"text-align: right;\">\n",
       "      <th></th>\n",
       "      <th>Col A</th>\n",
       "      <th>Col B</th>\n",
       "      <th>Col C</th>\n",
       "      <th>Col D</th>\n",
       "    </tr>\n",
       "  </thead>\n",
       "  <tbody>\n",
       "    <tr>\n",
       "      <th>0</th>\n",
       "      <td>180000</td>\n",
       "      <td>110</td>\n",
       "      <td>18.9</td>\n",
       "      <td>1400</td>\n",
       "    </tr>\n",
       "    <tr>\n",
       "      <th>1</th>\n",
       "      <td>360000</td>\n",
       "      <td>905</td>\n",
       "      <td>23.4</td>\n",
       "      <td>1800</td>\n",
       "    </tr>\n",
       "    <tr>\n",
       "      <th>2</th>\n",
       "      <td>230000</td>\n",
       "      <td>230</td>\n",
       "      <td>14.0</td>\n",
       "      <td>1300</td>\n",
       "    </tr>\n",
       "    <tr>\n",
       "      <th>3</th>\n",
       "      <td>60000</td>\n",
       "      <td>450</td>\n",
       "      <td>13.5</td>\n",
       "      <td>1500</td>\n",
       "    </tr>\n",
       "    <tr>\n",
       "      <th>4</th>\n",
       "      <td>80000</td>\n",
       "      <td>420</td>\n",
       "      <td>10.5</td>\n",
       "      <td>1000</td>\n",
       "    </tr>\n",
       "  </tbody>\n",
       "</table>\n",
       "</div>"
      ],
      "text/plain": [
       "    Col A  Col B  Col C  Col D\n",
       "0  180000    110   18.9   1400\n",
       "1  360000    905   23.4   1800\n",
       "2  230000    230   14.0   1300\n",
       "3   60000    450   13.5   1500\n",
       "4   80000    420   10.5   1000"
      ]
     },
     "metadata": {},
     "output_type": "display_data"
    },
    {
     "data": {
      "text/html": [
       "<div>\n",
       "<style scoped>\n",
       "    .dataframe tbody tr th:only-of-type {\n",
       "        vertical-align: middle;\n",
       "    }\n",
       "\n",
       "    .dataframe tbody tr th {\n",
       "        vertical-align: top;\n",
       "    }\n",
       "\n",
       "    .dataframe thead th {\n",
       "        text-align: right;\n",
       "    }\n",
       "</style>\n",
       "<table border=\"1\" class=\"dataframe\">\n",
       "  <thead>\n",
       "    <tr style=\"text-align: right;\">\n",
       "      <th></th>\n",
       "      <th>Col A</th>\n",
       "      <th>Col B</th>\n",
       "      <th>Col C</th>\n",
       "      <th>Col D</th>\n",
       "    </tr>\n",
       "  </thead>\n",
       "  <tbody>\n",
       "    <tr>\n",
       "      <th>0</th>\n",
       "      <td>0.500000</td>\n",
       "      <td>0.121547</td>\n",
       "      <td>0.807692</td>\n",
       "      <td>0.777778</td>\n",
       "    </tr>\n",
       "    <tr>\n",
       "      <th>1</th>\n",
       "      <td>1.000000</td>\n",
       "      <td>1.000000</td>\n",
       "      <td>1.000000</td>\n",
       "      <td>1.000000</td>\n",
       "    </tr>\n",
       "    <tr>\n",
       "      <th>2</th>\n",
       "      <td>0.638889</td>\n",
       "      <td>0.254144</td>\n",
       "      <td>0.598291</td>\n",
       "      <td>0.722222</td>\n",
       "    </tr>\n",
       "    <tr>\n",
       "      <th>3</th>\n",
       "      <td>0.166667</td>\n",
       "      <td>0.497238</td>\n",
       "      <td>0.576923</td>\n",
       "      <td>0.833333</td>\n",
       "    </tr>\n",
       "    <tr>\n",
       "      <th>4</th>\n",
       "      <td>0.222222</td>\n",
       "      <td>0.464088</td>\n",
       "      <td>0.448718</td>\n",
       "      <td>0.555556</td>\n",
       "    </tr>\n",
       "  </tbody>\n",
       "</table>\n",
       "</div>"
      ],
      "text/plain": [
       "      Col A     Col B     Col C     Col D\n",
       "0  0.500000  0.121547  0.807692  0.777778\n",
       "1  1.000000  1.000000  1.000000  1.000000\n",
       "2  0.638889  0.254144  0.598291  0.722222\n",
       "3  0.166667  0.497238  0.576923  0.833333\n",
       "4  0.222222  0.464088  0.448718  0.555556"
      ]
     },
     "metadata": {},
     "output_type": "display_data"
    },
    {
     "name": "stdout",
     "output_type": "stream",
     "text": [
      "Input:\n",
      " [[0.5        0.12154696 0.80769231 0.77777778]\n",
      " [1.         1.         1.         1.        ]\n",
      " [0.63888889 0.25414365 0.5982906  0.72222222]\n",
      " [0.16666667 0.49723757 0.57692308 0.83333333]\n",
      " [0.22222222 0.4640884  0.44871795 0.55555556]]\n",
      "\n",
      "Shape of Input: (5, 4)\n"
     ]
    }
   ],
   "source": [
    "# creating the input array\n",
    "#X = np.array([[1, 0, 0, 0], [1, 0, 1, 1], [0, 1, 0, 1]])\n",
    "#X = np.array([[10, 200, 2, 1000], [7, 178, 6, 1200], [4, 324, 8, 2000]])\n",
    "\n",
    "#create data\n",
    "df = pd.DataFrame([\n",
    "                   [180000, 110, 18.9, 1400], \n",
    "                   [360000, 905, 23.4, 1800], \n",
    "                   [230000, 230, 14.0, 1300], \n",
    "                   [60000, 450, 13.5, 1500], \n",
    "                   [80000, 420, 10.5, 1000]],\n",
    "    \n",
    "                   columns=['Col A', 'Col B',\n",
    "                            'Col C', 'Col D'])\n",
    "display(df)\n",
    "# Using The maximum absolute scaling\n",
    "# copy the data\n",
    "df_max_scaled = df.copy()\n",
    "  \n",
    "# apply normalization techniques\n",
    "for column in df_max_scaled.columns:\n",
    "    df_max_scaled[column] = df_max_scaled[column]  / df_max_scaled[column].abs().max()\n",
    "      \n",
    "# view normalized data\n",
    "display(df_max_scaled)\n",
    "\n",
    "X = df_max_scaled.to_numpy()\n",
    "\n",
    "print(\"Input:\\n\", X)\n",
    "\n",
    "# shape of input array\n",
    "print(\"\\nShape of Input:\", X.shape)"
   ]
  },
  {
   "cell_type": "code",
   "execution_count": 4,
   "id": "29a38d2d-2986-4055-952c-92bcc8c11ee1",
   "metadata": {},
   "outputs": [
    {
     "name": "stdout",
     "output_type": "stream",
     "text": [
      "Input in matrix form:\n",
      " [[0.5        1.         0.63888889 0.16666667 0.22222222]\n",
      " [0.12154696 1.         0.25414365 0.49723757 0.4640884 ]\n",
      " [0.80769231 1.         0.5982906  0.57692308 0.44871795]\n",
      " [0.77777778 1.         0.72222222 0.83333333 0.55555556]]\n",
      "\n",
      "Shape of Input Matrix: (4, 5)\n"
     ]
    }
   ],
   "source": [
    "# converting the input in matrix form\n",
    "X = X.T\n",
    "print(\"Input in matrix form:\\n\", X)\n",
    "\n",
    "# shape of input matrix\n",
    "print(\"\\nShape of Input Matrix:\", X.shape)"
   ]
  },
  {
   "cell_type": "code",
   "execution_count": 5,
   "id": "9c392d18-c06c-45a1-af38-b6b129acaf74",
   "metadata": {},
   "outputs": [
    {
     "name": "stdout",
     "output_type": "stream",
     "text": [
      "Actual Output:\n",
      " [[ 9.12]\n",
      " [12.23]\n",
      " [14.08]\n",
      " [10.24]\n",
      " [11.56]]\n",
      "\n",
      "Output in matrix form:\n",
      " [[ 9.12 12.23 14.08 10.24 11.56]]\n",
      "\n",
      "Shape of Output: (1, 5)\n",
      "Original Array =  [ 9.12 12.23 14.08 10.24 11.56]\n",
      "Normalized Array =  [0.0, 0.6270161290322582, 1.0, 0.22580645161290339, 0.4919354838709679]\n",
      "y final: [[0.         0.62701613 1.         0.22580645 0.49193548]]\n",
      "target: [9.12, 12.23, 14.08, 10.24, 11.56]\n"
     ]
    }
   ],
   "source": [
    "# creating the output array\n",
    "#y = np.array([[1], [1], [0]])\n",
    "y = np.array([[9.12], [12.23], [14.08], [10.24], [11.56]])\n",
    "\n",
    "print(\"Actual Output:\\n\", y)\n",
    "\n",
    "# output in matrix form\n",
    "y = y.T\n",
    "\n",
    "print(\"\\nOutput in matrix form:\\n\", y)\n",
    "\n",
    "# shape of input array\n",
    "print(\"\\nShape of Output:\", y.shape)\n",
    "\n",
    "# explicit function to normalize array Min-max\n",
    "def normalize(arr, t_min, t_max):\n",
    "    norm_arr = []\n",
    "    diff = t_max - t_min\n",
    "    diff_arr = max(arr) - min(arr)\n",
    "    for i in arr:\n",
    "        temp = (((i - min(arr))*diff)/diff_arr) + t_min\n",
    "        norm_arr.append(temp)\n",
    "    return norm_arr\n",
    "\n",
    "# target in list\n",
    "target = y[0].tolist()\n",
    "\n",
    "normalized_array_1d = normalize(y[0],0,1)\n",
    "print(\"Original Array = \", y[0])\n",
    "print(\"Normalized Array = \", normalized_array_1d)\n",
    "\n",
    "y = np.array([normalized_array_1d])\n",
    "\n",
    "print(\"y final:\", y)\n",
    "\n",
    "print(\"target:\", target)"
   ]
  },
  {
   "cell_type": "markdown",
   "id": "385a749c-e921-4846-ad2f-acaa6d8ef42e",
   "metadata": {
    "tags": []
   },
   "source": [
    "## Defining The Network"
   ]
  },
  {
   "cell_type": "code",
   "execution_count": 6,
   "id": "529b89a4-9e49-4ddd-93ee-e6ee253a47f1",
   "metadata": {},
   "outputs": [],
   "source": [
    "inputLayer_neurons = X.shape[0]  # number of features in data set\n",
    "hiddenLayer_neurons = 3  # number of hidden layers neurons\n",
    "outputLayer_neurons = 1  # number of neurons at output layer"
   ]
  },
  {
   "cell_type": "markdown",
   "id": "8776994b-e8e3-448b-8d66-067ed09243d5",
   "metadata": {},
   "source": [
    "## Initializing Weight"
   ]
  },
  {
   "cell_type": "code",
   "execution_count": 7,
   "id": "3005665c-6ca5-4254-bc8e-479948b892e0",
   "metadata": {},
   "outputs": [],
   "source": [
    "# Shape of weights_input_hidden should number of neurons at input layer * number of neurons at hidden layer\n",
    "weights_input_hidden = np.random.uniform(size=(inputLayer_neurons, hiddenLayer_neurons))\n",
    "\n",
    "# Shape of weights_hidden_output should number of neurons at hidden layer * number of neurons at output layer\n",
    "weights_hidden_output = np.random.uniform(size=(hiddenLayer_neurons, outputLayer_neurons))"
   ]
  },
  {
   "cell_type": "code",
   "execution_count": 8,
   "id": "47b27edc-4498-49f0-874f-67f9d61b2ed4",
   "metadata": {},
   "outputs": [
    {
     "data": {
      "text/plain": [
       "((4, 3), (3, 1))"
      ]
     },
     "execution_count": 8,
     "metadata": {},
     "output_type": "execute_result"
    }
   ],
   "source": [
    "# shape of weight matrix\n",
    "weights_input_hidden.shape, weights_hidden_output.shape"
   ]
  },
  {
   "cell_type": "code",
   "execution_count": 9,
   "id": "89fe5894-9585-4a45-b47c-eb558e648a97",
   "metadata": {},
   "outputs": [],
   "source": [
    "# defining the Sigmoid Function\n",
    "def sigmoid(x):\n",
    "    #print(\"sigmoid:\", x)\n",
    "    return 1 / (1 + np.exp(-x))"
   ]
  },
  {
   "cell_type": "code",
   "execution_count": 10,
   "id": "dffcd2ea-0710-4774-add2-65d94b7e2a5c",
   "metadata": {},
   "outputs": [],
   "source": [
    "# hidden layer activations\n",
    "\n",
    "hiddenLayer_linearTransform = np.dot(weights_input_hidden.T, X)\n",
    "hiddenLayer_activations = sigmoid(hiddenLayer_linearTransform)"
   ]
  },
  {
   "cell_type": "code",
   "execution_count": 11,
   "id": "85e76d7f-3772-4600-858c-f12750529a54",
   "metadata": {},
   "outputs": [],
   "source": [
    "# calculating the output\n",
    "outputLayer_linearTransform = np.dot(weights_hidden_output.T, hiddenLayer_activations)\n",
    "output = sigmoid(outputLayer_linearTransform)"
   ]
  },
  {
   "cell_type": "code",
   "execution_count": 12,
   "id": "e8c99bbc-c1b9-45e8-b083-1614e74e4c0c",
   "metadata": {},
   "outputs": [
    {
     "data": {
      "text/plain": [
       "array([[0.71094739, 0.74316088, 0.71322106, 0.70987181, 0.6998249 ]])"
      ]
     },
     "execution_count": 12,
     "metadata": {},
     "output_type": "execute_result"
    }
   ],
   "source": [
    "# output\n",
    "output"
   ]
  },
  {
   "cell_type": "markdown",
   "id": "6bc880b5-1bb4-4858-be2d-4955d4522952",
   "metadata": {},
   "source": [
    "## Defining Loss Function"
   ]
  },
  {
   "cell_type": "code",
   "execution_count": 13,
   "id": "71bd7cf3-e2e7-42c3-aa3c-0946bd082442",
   "metadata": {},
   "outputs": [
    {
     "data": {
      "text/plain": [
       "array([[0.2527231 , 0.0067448 , 0.04112108, 0.11715964, 0.021609  ]])"
      ]
     },
     "execution_count": 13,
     "metadata": {},
     "output_type": "execute_result"
    }
   ],
   "source": [
    "# calculating error\n",
    "error = np.square(y - output) / 2\n",
    "error"
   ]
  },
  {
   "cell_type": "code",
   "execution_count": 14,
   "id": "d3008215-7cf9-473f-bcff-2c62d842c136",
   "metadata": {},
   "outputs": [],
   "source": [
    "# rate of change of error w.r.t. output\n",
    "error_wrt_output = -(y - output)"
   ]
  },
  {
   "cell_type": "code",
   "execution_count": 15,
   "id": "f4ddbd6e-2c3d-4b43-a594-ee8fd2e201b5",
   "metadata": {},
   "outputs": [],
   "source": [
    "# rate of change of output w.r.t. Z2\n",
    "output_wrt_outputLayer_LinearTransform = np.multiply(output, (1 - output))"
   ]
  },
  {
   "cell_type": "code",
   "execution_count": 16,
   "id": "8a6b986b-b99e-445e-bf47-5a2039a3bcd3",
   "metadata": {},
   "outputs": [],
   "source": [
    "# rate of change of Z2 w.r.t. weights between hidden and output layer\n",
    "outputLayer_LinearTransform_wrt_weights_hidden_output = hiddenLayer_activations"
   ]
  },
  {
   "cell_type": "code",
   "execution_count": 17,
   "id": "12902961-0be2-4c05-9513-95797162a05e",
   "metadata": {},
   "outputs": [
    {
     "data": {
      "text/plain": [
       "(3, 5)"
      ]
     },
     "execution_count": 17,
     "metadata": {},
     "output_type": "execute_result"
    }
   ],
   "source": [
    "# checking the shapes of partial derivatives\n",
    "error_wrt_output.shape, \n",
    "output_wrt_outputLayer_LinearTransform.shape, \n",
    "outputLayer_LinearTransform_wrt_weights_hidden_output.shape"
   ]
  },
  {
   "cell_type": "code",
   "execution_count": 18,
   "id": "b3609c17-93c8-4134-afc7-407f025cbf1d",
   "metadata": {},
   "outputs": [
    {
     "data": {
      "text/plain": [
       "(3, 1)"
      ]
     },
     "execution_count": 18,
     "metadata": {},
     "output_type": "execute_result"
    }
   ],
   "source": [
    "# shape of weights of output layer\n",
    "weights_hidden_output.shape"
   ]
  },
  {
   "cell_type": "code",
   "execution_count": 19,
   "id": "fbe3438f-401e-4159-9b44-92518616f796",
   "metadata": {},
   "outputs": [],
   "source": [
    "# rate of change of error w.r.t weight between hidden and output layer\n",
    "error_wrt_weights_hidden_output = np.dot(outputLayer_LinearTransform_wrt_weights_hidden_output,\n",
    "                                         (error_wrt_output * output_wrt_outputLayer_LinearTransform).T,)"
   ]
  },
  {
   "cell_type": "code",
   "execution_count": 20,
   "id": "66dee5e2-067b-4f54-96e6-0f805ed96fff",
   "metadata": {},
   "outputs": [
    {
     "data": {
      "text/plain": [
       "(3, 1)"
      ]
     },
     "execution_count": 20,
     "metadata": {},
     "output_type": "execute_result"
    }
   ],
   "source": [
    "error_wrt_weights_hidden_output.shape"
   ]
  },
  {
   "cell_type": "code",
   "execution_count": 21,
   "id": "9c6f7df3-f65e-4916-9be6-728042a1e01a",
   "metadata": {},
   "outputs": [],
   "source": [
    "# rate of change of Z2 w.r.t. hidden layer activations\n",
    "outputLayer_LinearTransform_wrt_hiddenLayer_activations = weights_hidden_output"
   ]
  },
  {
   "cell_type": "code",
   "execution_count": 22,
   "id": "6d011e5f-6fa9-42fb-83ee-4e67d14321d3",
   "metadata": {},
   "outputs": [],
   "source": [
    "# rate of change of hidden layer activations w.r.t. Z1\n",
    "hiddenLayer_activations_wrt_hiddenLayer_linearTransform = np.multiply(\n",
    "    hiddenLayer_activations, (1 - hiddenLayer_activations))"
   ]
  },
  {
   "cell_type": "code",
   "execution_count": 23,
   "id": "fe66f252-0c84-4d91-94bc-98325081e0b9",
   "metadata": {},
   "outputs": [],
   "source": [
    "# rate of change of Z1 w.r.t. weights between input and hidden layer\n",
    "hiddenLayer_linearTransform_wrt_weights_input_hidden = X"
   ]
  },
  {
   "cell_type": "code",
   "execution_count": 24,
   "id": "51facaa0-263b-40ed-b4ab-15ae20e55183",
   "metadata": {},
   "outputs": [
    {
     "name": "stdout",
     "output_type": "stream",
     "text": [
      "(1, 5) (1, 5) (3, 1) (3, 5) (4, 5)\n"
     ]
    }
   ],
   "source": [
    "# checking the shapes of partial derivatives\n",
    "print(\n",
    "    error_wrt_output.shape,\n",
    "    output_wrt_outputLayer_LinearTransform.shape,\n",
    "    outputLayer_LinearTransform_wrt_hiddenLayer_activations.shape,\n",
    "    hiddenLayer_activations_wrt_hiddenLayer_linearTransform.shape,\n",
    "    hiddenLayer_linearTransform_wrt_weights_input_hidden.shape,\n",
    ")"
   ]
  },
  {
   "cell_type": "code",
   "execution_count": 25,
   "id": "c80d9ffb-409f-46f2-af0a-35e1361000bb",
   "metadata": {},
   "outputs": [
    {
     "data": {
      "text/plain": [
       "(4, 3)"
      ]
     },
     "execution_count": 25,
     "metadata": {},
     "output_type": "execute_result"
    }
   ],
   "source": [
    "# shape of weights of hidden layer\n",
    "weights_input_hidden.shape"
   ]
  },
  {
   "cell_type": "code",
   "execution_count": 26,
   "id": "59047cc6-35da-4af7-8639-e1f6e81f4ac2",
   "metadata": {},
   "outputs": [],
   "source": [
    "# rate of change of error w.r.t weights between input and hidden layer\n",
    "error_wrt_weights_input_hidden = np.dot(\n",
    "    hiddenLayer_linearTransform_wrt_weights_input_hidden,\n",
    "    (\n",
    "        hiddenLayer_activations_wrt_hiddenLayer_linearTransform\n",
    "        * np.dot(\n",
    "            outputLayer_LinearTransform_wrt_hiddenLayer_activations,\n",
    "            (output_wrt_outputLayer_LinearTransform * error_wrt_output),\n",
    "        )\n",
    "    ).T,\n",
    ")"
   ]
  },
  {
   "cell_type": "code",
   "execution_count": 27,
   "id": "9ab5d3df-7f0d-49e5-9f71-2b49c1de2397",
   "metadata": {},
   "outputs": [
    {
     "data": {
      "text/plain": [
       "(4, 3)"
      ]
     },
     "execution_count": 27,
     "metadata": {},
     "output_type": "execute_result"
    }
   ],
   "source": [
    "error_wrt_weights_input_hidden.shape"
   ]
  },
  {
   "cell_type": "code",
   "execution_count": 28,
   "id": "7dd13eb9-f2f2-49cf-b478-c89b378efa48",
   "metadata": {},
   "outputs": [],
   "source": [
    "# defining the learning rate\n",
    "lr = 0.01"
   ]
  },
  {
   "cell_type": "code",
   "execution_count": 29,
   "id": "d8b001ba-3e66-4383-af98-f5b6bedeaf28",
   "metadata": {},
   "outputs": [
    {
     "data": {
      "text/plain": [
       "array([[0.83244264],\n",
       "       [0.21233911],\n",
       "       [0.18182497]])"
      ]
     },
     "execution_count": 29,
     "metadata": {},
     "output_type": "execute_result"
    }
   ],
   "source": [
    "# initial weights_hidden_output\n",
    "weights_hidden_output"
   ]
  },
  {
   "cell_type": "code",
   "execution_count": 30,
   "id": "b64b81e8-0efb-44ce-aff7-90168e5be23f",
   "metadata": {},
   "outputs": [
    {
     "data": {
      "text/plain": [
       "array([[0.37454012, 0.95071431, 0.73199394],\n",
       "       [0.59865848, 0.15601864, 0.15599452],\n",
       "       [0.05808361, 0.86617615, 0.60111501],\n",
       "       [0.70807258, 0.02058449, 0.96990985]])"
      ]
     },
     "execution_count": 30,
     "metadata": {},
     "output_type": "execute_result"
    }
   ],
   "source": [
    "# initial weights_input_hidden\n",
    "weights_input_hidden"
   ]
  },
  {
   "cell_type": "code",
   "execution_count": 31,
   "id": "90575828-929d-4e6a-a462-2ecbaa46687b",
   "metadata": {},
   "outputs": [],
   "source": [
    "# updating the weights of output layer\n",
    "weights_hidden_output = weights_hidden_output - lr * error_wrt_weights_hidden_output"
   ]
  },
  {
   "cell_type": "code",
   "execution_count": 32,
   "id": "55170b9b-6ac3-4799-abc5-12283e71eec1",
   "metadata": {},
   "outputs": [],
   "source": [
    "# updating the weights of hidden layer\n",
    "weights_input_hidden = weights_input_hidden - lr * error_wrt_weights_input_hidden"
   ]
  },
  {
   "cell_type": "code",
   "execution_count": 33,
   "id": "916b9e30-3ae9-4d54-a1ac-35c80ebaf404",
   "metadata": {},
   "outputs": [
    {
     "data": {
      "text/plain": [
       "array([[0.8306246 ],\n",
       "       [0.21049935],\n",
       "       [0.17977003]])"
      ]
     },
     "execution_count": 33,
     "metadata": {},
     "output_type": "execute_result"
    }
   ],
   "source": [
    "# updated weights_hidden_output\n",
    "weights_hidden_output"
   ]
  },
  {
   "cell_type": "code",
   "execution_count": 34,
   "id": "2b6e75cf-d816-4311-9918-7d15aae96b55",
   "metadata": {},
   "outputs": [
    {
     "data": {
      "text/plain": [
       "array([[0.37440777, 0.95068393, 0.73197416],\n",
       "       [0.59851111, 0.15598019, 0.15596923],\n",
       "       [0.05778381, 0.86610438, 0.60106779],\n",
       "       [0.7077421 , 0.02050312, 0.9698564 ]])"
      ]
     },
     "execution_count": 34,
     "metadata": {},
     "output_type": "execute_result"
    }
   ],
   "source": [
    "# updated weights_input_hidden\n",
    "weights_input_hidden"
   ]
  },
  {
   "attachments": {
    "73099025-ec48-47e0-8251-490927266db4.png": {
     "image/png": "[encoded data removed]"
    }
   },
   "cell_type": "markdown",
   "id": "0aba684a-ce53-4c16-9b09-466f03a2d964",
   "metadata": {},
   "source": [
    "![model_architecture_2.png](attachment:73099025-ec48-47e0-8251-490927266db4.png)"
   ]
  },
  {
   "cell_type": "code",
   "execution_count": 35,
   "id": "4a63d1c8-87dc-49f8-941b-e14076ea05c1",
   "metadata": {},
   "outputs": [
    {
     "name": "stdout",
     "output_type": "stream",
     "text": [
      "inputLayer_neurons: 4\n",
      "X: (4, 5)\n"
     ]
    }
   ],
   "source": [
    "# defining the model architecture\n",
    "inputLayer_neurons = X.shape[0]  # number of features in data set = 4\n",
    "hiddenLayer_neurons = 3  # number of hidden layers neurons\n",
    "outputLayer_neurons = 1  # number of neurons at output layer\n",
    "\n",
    "# initializing weight\n",
    "weights_input_hidden = np.random.uniform(size=(inputLayer_neurons, hiddenLayer_neurons))\n",
    "weights_hidden_output = np.random.uniform(size=(hiddenLayer_neurons, outputLayer_neurons))\n",
    "\n",
    "# defining the parameters\n",
    "lr = 0.1 \n",
    "epochs = 8000\n",
    "\n",
    "print(\"inputLayer_neurons:\", inputLayer_neurons)\n",
    "print(\"X:\", X.shape)"
   ]
  },
  {
   "cell_type": "code",
   "execution_count": 36,
   "id": "809e2b7a-9483-4369-bae4-4fc0cd8daa62",
   "metadata": {},
   "outputs": [
    {
     "name": "stdout",
     "output_type": "stream",
     "text": [
      "Error at epoch 0 is 0.11928\n",
      "Error at epoch 1000 is 0.05462\n",
      "Error at epoch 2000 is 0.04733\n",
      "Error at epoch 3000 is 0.02702\n",
      "Error at epoch 4000 is 0.01324\n",
      "Error at epoch 5000 is 0.00771\n",
      "Error at epoch 6000 is 0.00534\n",
      "Error at epoch 7000 is 0.00408\n"
     ]
    }
   ],
   "source": [
    "losses = []\n",
    "for epoch in range(epochs):\n",
    "    ## Forward Propogation\n",
    "\n",
    "    # calculating hidden layer activations\n",
    "    hiddenLayer_linearTransform = np.dot(weights_input_hidden.T, X)\n",
    "    #print(\"hiddenLayer_linearTransform\", hiddenLayer_linearTransform)\n",
    "    #print(\"type hiddenLayer_linearTransform\", hiddenLayer_linearTransform.shape)\n",
    "    hiddenLayer_activations = sigmoid(hiddenLayer_linearTransform)\n",
    "    #print(\"hiddenLayer_activations\", hiddenLayer_activations)\n",
    "\n",
    "    # calculating the output\n",
    "    outputLayer_linearTransform = np.dot(\n",
    "        weights_hidden_output.T, hiddenLayer_activations\n",
    "    )\n",
    "    \n",
    "    #print(\"outputLayer_linearTransform\", outputLayer_linearTransform)\n",
    "    #output = sigmoid(outputLayer_linearTransform)\n",
    "    output2 = np.sum(outputLayer_linearTransform)\n",
    "    output = outputLayer_linearTransform\n",
    "    \n",
    "    #print(\"Output: \", output)\n",
    "    #print(\"Output2: \", output2)\n",
    "\n",
    "    ## Backward Propagation\n",
    "\n",
    "    # calculating error\n",
    "    error = np.square(y - output) / 2\n",
    "    \n",
    "    #print(\"ERROR :\", error)\n",
    "\n",
    "    # calculating rate of change of error w.r.t weight between hidden and output layer\n",
    "    error_wrt_output = -(y - output)\n",
    "    output_wrt_outputLayer_LinearTransform = np.multiply(output, (1 - output))\n",
    "    outputLayer_LinearTransform_wrt_weights_hidden_output = hiddenLayer_activations\n",
    "\n",
    "    error_wrt_weights_hidden_output = np.dot(\n",
    "        outputLayer_LinearTransform_wrt_weights_hidden_output,\n",
    "        (error_wrt_output * output_wrt_outputLayer_LinearTransform).T,\n",
    "    )\n",
    "\n",
    "    # calculating rate of change of error w.r.t weights between input and hidden layer\n",
    "    outputLayer_LinearTransform_wrt_hiddenLayer_activations = weights_hidden_output\n",
    "    hiddenLayer_activations_wrt_hiddenLayer_linearTransform = np.multiply(\n",
    "        hiddenLayer_activations, (1 - hiddenLayer_activations)\n",
    "    )\n",
    "    hiddenLayer_linearTransform_wrt_weights_input_hidden = X\n",
    "    error_wrt_weights_input_hidden = np.dot(\n",
    "        hiddenLayer_linearTransform_wrt_weights_input_hidden,\n",
    "        (\n",
    "            hiddenLayer_activations_wrt_hiddenLayer_linearTransform\n",
    "            * np.dot(\n",
    "                outputLayer_LinearTransform_wrt_hiddenLayer_activations,\n",
    "                (output_wrt_outputLayer_LinearTransform * error_wrt_output),\n",
    "            )\n",
    "        ).T,\n",
    "    )\n",
    "\n",
    "    # updating the weights\n",
    "    weights_hidden_output = weights_hidden_output - lr * error_wrt_weights_hidden_output\n",
    "    weights_input_hidden = weights_input_hidden - lr * error_wrt_weights_input_hidden\n",
    "\n",
    "    # print error at every 100th epoch\n",
    "    epoch_loss = np.average(error)\n",
    "    if epoch % 1000 == 0:\n",
    "        print(f\"Error at epoch {epoch} is {epoch_loss:.5f}\")\n",
    "\n",
    "    # appending the error of each epoch\n",
    "    losses.append(epoch_loss)"
   ]
  },
  {
   "cell_type": "code",
   "execution_count": 37,
   "id": "ec0eced5-502f-4de9-b27f-432090fc4b5e",
   "metadata": {},
   "outputs": [
    {
     "data": {
      "text/plain": [
       "array([[ 2.20466737,  0.79120168, -0.09054243],\n",
       "       [ 0.24091514,  0.41604542,  0.3874282 ],\n",
       "       [-2.76194991, -0.55734962,  1.11777497],\n",
       "       [-0.08450993,  0.35772682,  0.15458333]])"
      ]
     },
     "execution_count": 37,
     "metadata": {},
     "output_type": "execute_result"
    }
   ],
   "source": [
    "# updated w_ih\n",
    "weights_input_hidden "
   ]
  },
  {
   "cell_type": "code",
   "execution_count": 38,
   "id": "711c9cdc-1c72-4517-9e50-9d311152c4ad",
   "metadata": {},
   "outputs": [
    {
     "data": {
      "text/plain": [
       "array([[ 3.53789787],\n",
       "       [ 0.51397507],\n",
       "       [-1.40402532]])"
      ]
     },
     "execution_count": 38,
     "metadata": {},
     "output_type": "execute_result"
    }
   ],
   "source": [
    "# updated w_ho\n",
    "weights_hidden_output "
   ]
  },
  {
   "cell_type": "code",
   "execution_count": 39,
   "id": "b499d5fe-ddbc-43aa-80ff-0ea267db40ef",
   "metadata": {},
   "outputs": [
    {
     "data": {
      "image/png": "[encoded data removed]",
      "text/plain": [
       "<Figure size 640x480 with 1 Axes>"
      ]
     },
     "metadata": {},
     "output_type": "display_data"
    }
   ],
   "source": [
    "# visualizing the error after each epoch\n",
    "plt.plot(np.arange(1, epochs + 1), np.array(losses)) \n",
    "plt.title(\"Loss vs Epoch\")\n",
    "plt.xlabel(\"Epoch\")\n",
    "plt.ylabel(\"Loss\")\n",
    "plt.show()"
   ]
  },
  {
   "cell_type": "code",
   "execution_count": 40,
   "id": "37f58f6c-5d82-426d-92c3-9700088592b6",
   "metadata": {},
   "outputs": [
    {
     "name": "stdout",
     "output_type": "stream",
     "text": [
      "(5, 1)\n",
      "[[0.09998988]\n",
      " [0.63349621]\n",
      " [0.90367836]\n",
      " [0.11808577]\n",
      " [0.53080961]]\n"
     ]
    }
   ],
   "source": [
    "# final output from the model\n",
    "output\n",
    "\n",
    "y_p = output.T\n",
    "print(y_p.shape)\n",
    "print(y_p)"
   ]
  },
  {
   "cell_type": "code",
   "execution_count": 41,
   "id": "2ed9f1e7-4391-48c4-9af3-2567b6fd18c3",
   "metadata": {},
   "outputs": [
    {
     "name": "stdout",
     "output_type": "stream",
     "text": [
      "[[0.        ]\n",
      " [0.62701613]\n",
      " [1.        ]\n",
      " [0.22580645]\n",
      " [0.49193548]]\n"
     ]
    }
   ],
   "source": [
    "# actual target\n",
    "y\n",
    "\n",
    "y_act = y.T\n",
    "print(y_act)"
   ]
  },
  {
   "cell_type": "code",
   "execution_count": 42,
   "id": "fba81da9-187e-43f0-8270-fead74688f18",
   "metadata": {},
   "outputs": [
    {
     "data": {
      "image/png": "[encoded data removed]",
      "text/plain": [
       "<Figure size 640x480 with 1 Axes>"
      ]
     },
     "metadata": {},
     "output_type": "display_data"
    }
   ],
   "source": [
    "plt.scatter(y_p, y_act)\n",
    "plt.title(\"Prediction vs Actual\")\n",
    "plt.xlabel(\"prediction\")\n",
    "plt.ylabel(\"actual\")\n",
    "plt.show()"
   ]
  },
  {
   "cell_type": "code",
   "execution_count": 44,
   "id": "7a5f3e95-417c-4660-aef4-b30ee1f9a122",
   "metadata": {},
   "outputs": [
    {
     "name": "stdout",
     "output_type": "stream",
     "text": [
      "cek: [14.08, 10.969999999999999, 9.12, 12.959999999999999, 11.639999999999999]\n",
      "pred: [13.584050198513337, 10.937858776527124, 9.597755332236826, 13.494294597722162, 11.447184337984025]\n",
      "[[0.0], [0.6270161290322582], [1.0], [0.22580645161290339], [0.4919354838709679]]\n",
      "x: [0.0, 0.6270161290322582, 1.0, 0.22580645161290339, 0.4919354838709679]\n",
      "y: [0.09998987933198852, 0.633496214409854, 0.9036783604361239, 0.11808576658827387, 0.5308096092774144]\n",
      "(5, 1)\n"
     ]
    },
    {
     "data": {
      "text/html": [
       "<div>\n",
       "<style scoped>\n",
       "    .dataframe tbody tr th:only-of-type {\n",
       "        vertical-align: middle;\n",
       "    }\n",
       "\n",
       "    .dataframe tbody tr th {\n",
       "        vertical-align: top;\n",
       "    }\n",
       "\n",
       "    .dataframe thead th {\n",
       "        text-align: right;\n",
       "    }\n",
       "</style>\n",
       "<table border=\"1\" class=\"dataframe\">\n",
       "  <thead>\n",
       "    <tr style=\"text-align: right;\">\n",
       "      <th></th>\n",
       "      <th>Col A</th>\n",
       "      <th>Col B</th>\n",
       "      <th>Col C</th>\n",
       "      <th>Col D</th>\n",
       "      <th>Actual</th>\n",
       "      <th>Prediction</th>\n",
       "    </tr>\n",
       "  </thead>\n",
       "  <tbody>\n",
       "    <tr>\n",
       "      <th>0</th>\n",
       "      <td>180000</td>\n",
       "      <td>110</td>\n",
       "      <td>18.9</td>\n",
       "      <td>1400</td>\n",
       "      <td>14.08</td>\n",
       "      <td>13.584050</td>\n",
       "    </tr>\n",
       "    <tr>\n",
       "      <th>1</th>\n",
       "      <td>360000</td>\n",
       "      <td>905</td>\n",
       "      <td>23.4</td>\n",
       "      <td>1800</td>\n",
       "      <td>10.97</td>\n",
       "      <td>10.937859</td>\n",
       "    </tr>\n",
       "    <tr>\n",
       "      <th>2</th>\n",
       "      <td>230000</td>\n",
       "      <td>230</td>\n",
       "      <td>14.0</td>\n",
       "      <td>1300</td>\n",
       "      <td>9.12</td>\n",
       "      <td>9.597755</td>\n",
       "    </tr>\n",
       "    <tr>\n",
       "      <th>3</th>\n",
       "      <td>60000</td>\n",
       "      <td>450</td>\n",
       "      <td>13.5</td>\n",
       "      <td>1500</td>\n",
       "      <td>12.96</td>\n",
       "      <td>13.494295</td>\n",
       "    </tr>\n",
       "    <tr>\n",
       "      <th>4</th>\n",
       "      <td>80000</td>\n",
       "      <td>420</td>\n",
       "      <td>10.5</td>\n",
       "      <td>1000</td>\n",
       "      <td>11.64</td>\n",
       "      <td>11.447184</td>\n",
       "    </tr>\n",
       "  </tbody>\n",
       "</table>\n",
       "</div>"
      ],
      "text/plain": [
       "    Col A  Col B  Col C  Col D  Actual  Prediction\n",
       "0  180000    110   18.9   1400   14.08   13.584050\n",
       "1  360000    905   23.4   1800   10.97   10.937859\n",
       "2  230000    230   14.0   1300    9.12    9.597755\n",
       "3   60000    450   13.5   1500   12.96   13.494295\n",
       "4   80000    420   10.5   1000   11.64   11.447184"
      ]
     },
     "metadata": {},
     "output_type": "display_data"
    }
   ],
   "source": [
    "#plt.plot(y_p,forecast, c='red')\n",
    "#plt.plot(y_act,train_z, c='green')\n",
    "\n",
    "a = y_act.tolist()\n",
    "b = y_p.tolist()\n",
    "x = []\n",
    "y = []\n",
    "for val in a:\n",
    "    x.append(val[0])\n",
    "\n",
    "for val in b:\n",
    "    y.append(val[0])\n",
    "\n",
    "def reverse(X, xmin, xmax):\n",
    "    rev = []\n",
    "    for val in X:\n",
    "        rev.append(val*(xmax - xmin) + xmin)\n",
    "    return rev\n",
    "\n",
    "act = reverse(x, 14.08, 9.12)\n",
    "pred = reverse(y, 14.08, 9.12)\n",
    "print(\"cek:\", act)   \n",
    "print(\"pred:\", pred) \n",
    "    \n",
    "print(a)\n",
    "print(\"x:\", x)\n",
    "print(\"y:\", y)\n",
    "print(y_act.shape)\n",
    "\n",
    "#display(df)\n",
    "\n",
    "df['Actual'] = act\n",
    "df['Prediction'] = pred\n",
    "\n",
    "display(df)"
   ]
  },
  {
   "cell_type": "code",
   "execution_count": 58,
   "id": "2181dc61-2543-4aa6-9acc-430d49c65551",
   "metadata": {},
   "outputs": [
    {
     "data": {
      "image/png": "[encoded data removed]",
      "text/plain": [
       "<Figure size 640x480 with 1 Axes>"
      ]
     },
     "metadata": {},
     "output_type": "display_data"
    }
   ],
   "source": [
    "# plt.plot([,'g*', y, 'ro'])\n",
    "# plt.show()\n",
    "\n",
    "df.plot(x='Col C', y=['Actual', 'Prediction'], style='o', color=['red','blue'])\n",
    "plt.xlabel(\"Col C\")\n",
    "plt.ylabel(\"Actual vs Prediction\")\n",
    "plt.xlim(0, 30)\n",
    "plt.ylim(0, 20)\n",
    "plt.show()\n",
    "\n"
   ]
  },
  {
   "cell_type": "code",
   "execution_count": 61,
   "id": "9a8f3f46-049f-41d0-878f-785a96000b14",
   "metadata": {},
   "outputs": [
    {
     "data": {
      "image/png": "[encoded data removed]",
      "text/plain": [
       "<Figure size 640x480 with 1 Axes>"
      ]
     },
     "metadata": {},
     "output_type": "display_data"
    }
   ],
   "source": [
    "df.plot(x='Col B', y=['Actual', 'Prediction'], style='o', color=['red','blue'])\n",
    "plt.xlabel(\"Col C\")\n",
    "plt.ylabel(\"Actual vs Prediction\")\n",
    "plt.xlim(0, 500)\n",
    "plt.ylim(0, 20)\n",
    "plt.show()\n"
   ]
  },
  {
   "cell_type": "code",
   "execution_count": null,
   "id": "1103fef5-4f40-4c3a-ba29-56b0f713634e",
   "metadata": {},
   "outputs": [],
   "source": [
    "# losses = []\n",
    "# for epoch in range(epochs):\n",
    "#     ## Forward Propogation\n",
    "\n",
    "#     # calculating hidden layer activations\n",
    "#     hiddenLayer_linearTransform = np.dot(weights_input_hidden.T, X)\n",
    "#     hiddenLayer_activations = sigmoid(hiddenLayer_linearTransform)\n",
    "\n",
    "#     # calculating the output\n",
    "#     outputLayer_linearTransform = np.dot(\n",
    "#         weights_hidden_output.T, hiddenLayer_activations\n",
    "#     )\n",
    "#     output = sigmoid(outputLayer_linearTransform)\n",
    "\n",
    "#     ## Backward Propagation\n",
    "\n",
    "#     # calculating error\n",
    "#     error = np.square(y - output) / 2\n",
    "\n",
    "#     # calculating rate of change of error w.r.t weight between hidden and output layer\n",
    "#     error_wrt_output = -(y - output)\n",
    "#     output_wrt_outputLayer_LinearTransform = np.multiply(output, (1 - output))\n",
    "#     outputLayer_LinearTransform_wrt_weights_hidden_output = hiddenLayer_activations\n",
    "\n",
    "#     error_wrt_weights_hidden_output = np.dot(\n",
    "#         outputLayer_LinearTransform_wrt_weights_hidden_output,\n",
    "#         (error_wrt_output * output_wrt_outputLayer_LinearTransform).T,\n",
    "#     )\n",
    "\n",
    "#     # calculating rate of change of error w.r.t weights between input and hidden layer\n",
    "#     outputLayer_LinearTransform_wrt_hiddenLayer_activations = weights_hidden_output\n",
    "#     hiddenLayer_activations_wrt_hiddenLayer_linearTransform = np.multiply(\n",
    "#         hiddenLayer_activations, (1 - hiddenLayer_activations)\n",
    "#     )\n",
    "#     hiddenLayer_linearTransform_wrt_weights_input_hidden = X\n",
    "#     error_wrt_weights_input_hidden = np.dot(\n",
    "#         hiddenLayer_linearTransform_wrt_weights_input_hidden,\n",
    "#         (\n",
    "#             hiddenLayer_activations_wrt_hiddenLayer_linearTransform\n",
    "#             * np.dot(\n",
    "#                 outputLayer_LinearTransform_wrt_hiddenLayer_activations,\n",
    "#                 (output_wrt_outputLayer_LinearTransform * error_wrt_output),\n",
    "#             )\n",
    "#         ).T,\n",
    "#     )\n",
    "\n",
    "#     # updating the weights\n",
    "#     weights_hidden_output = weights_hidden_output - lr * error_wrt_weights_hidden_output\n",
    "#     weights_input_hidden = weights_input_hidden - lr * error_wrt_weights_input_hidden\n",
    "\n",
    "#     # print error at every 100th epoch\n",
    "#     epoch_loss = np.average(error)\n",
    "#     if epoch % 1000 == 0:\n",
    "#         print(f\"Error at epoch {epoch} is {epoch_loss:.5f}\")\n",
    "\n",
    "#     # appending the error of each epoch\n",
    "#     losses.append(epoch_loss)"
   ]
  },
  {
   "cell_type": "code",
   "execution_count": null,
   "id": "6827d67c-50cc-4a6b-b24b-ea67fe331f79",
   "metadata": {},
   "outputs": [],
   "source": []
  }
 ],
 "metadata": {
  "kernelspec": {
   "display_name": "Python 3 (ipykernel)",
   "language": "python",
   "name": "python3"
  },
  "language_info": {
   "codemirror_mode": {
    "name": "ipython",
    "version": 3
   },
   "file_extension": ".py",
   "mimetype": "text/x-python",
   "name": "python",
   "nbconvert_exporter": "python",
   "pygments_lexer": "ipython3",
   "version": "3.10.7"
  }
 },
 "nbformat": 4,
 "nbformat_minor": 5
}
